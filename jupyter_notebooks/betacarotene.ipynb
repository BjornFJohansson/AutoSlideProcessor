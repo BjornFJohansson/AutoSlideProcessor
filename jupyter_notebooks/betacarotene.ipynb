{
 "cells": [
  {
   "cell_type": "markdown",
   "metadata": {
    "deletable": true,
    "editable": true
   },
   "source": [
    "# beta-carotene pathways in S. cerevisiae"
   ]
  },
  {
   "cell_type": "markdown",
   "metadata": {
    "deletable": true,
    "editable": true
   },
   "source": [
    "    pJC170 VEGAS assembly vector\n",
    "    pJC175 orange\n",
    "    pJC178 bright yellow\n",
    "    pJC181 pink\n",
    "    pJC184 light yellow\n",
    "    pJC187 white"
   ]
  },
  {
   "cell_type": "markdown",
   "metadata": {
    "deletable": true,
    "editable": true
   },
   "source": [
    "![pJC175-187](pJC175-187.png)"
   ]
  },
  {
   "cell_type": "markdown",
   "metadata": {
    "deletable": true,
    "editable": true
   },
   "source": [
    "![plasmid](plasmid.png)"
   ]
  },
  {
   "cell_type": "markdown",
   "metadata": {
    "deletable": true,
    "editable": true
   },
   "source": [
    "[Mitchell2015](Mitchell2015.pdf)"
   ]
  },
  {
   "cell_type": "code",
   "execution_count": 1,
   "metadata": {
    "collapsed": true,
    "deletable": true,
    "editable": true
   },
   "outputs": [],
   "source": [
    "import pydna"
   ]
  },
  {
   "cell_type": "code",
   "execution_count": 2,
   "metadata": {
    "collapsed": false,
    "deletable": true,
    "editable": true
   },
   "outputs": [],
   "source": [
    "VA1_F,VA8_R,VA3_F,VA9_R,VA4_F,VA10_R,VA5_F,VA11_R,VA6_F,VA2_R = pydna.parse('''\n",
    "\n",
    ">VA1.F\n",
    "CCCCTTAGGTTGCAAATGCTCC\n",
    ">VA8.R\n",
    "AATTGACAAGGCCTGACCACAAC\n",
    "\n",
    "------\n",
    "\n",
    ">VA3.F\n",
    "GGAGGTACTGGCCTAGCGTC\n",
    ">VA9.R\n",
    "AATGAGGGTGTACAATGCTAATAGGACG\n",
    "\n",
    "------\n",
    "\n",
    ">VA4.F\n",
    "TTGGCGTTAATTGTAGCTTATTTCCCG\n",
    ">VA10.R\n",
    "AGGACGGTGGCCGTTCTAAA\n",
    "\n",
    "------\n",
    "\n",
    ">VA5.F\n",
    "GACTAAGACTCTGGTCACGGTTCAG\n",
    ">VA11.R\n",
    "ACCACTCGGGCATAGTCCG\n",
    "\n",
    "------\n",
    "\n",
    ">VA6.F\n",
    "TGCACGGCGCTAGGTGTG\n",
    ">VA2.R\n",
    "CTTCGCTTACATACCCATGACGG''', ds=False)"
   ]
  },
  {
   "cell_type": "code",
   "execution_count": 3,
   "metadata": {
    "collapsed": false,
    "deletable": true,
    "editable": true
   },
   "outputs": [
    {
     "name": "stdout",
     "output_type": "stream",
     "text": [
      "VA1.F\tCCCCTTAGGTTGCAAATGCTCC\n",
      "\n",
      "VA8.R\tAATTGACAAGGCCTGACCACAAC\n",
      "\n",
      "VA3.F\tGGAGGTACTGGCCTAGCGTC\n",
      "\n",
      "VA9.R\tAATGAGGGTGTACAATGCTAATAGGACG\n",
      "\n",
      "VA4.F\tTTGGCGTTAATTGTAGCTTATTTCCCG\n",
      "\n",
      "VA10.R\tAGGACGGTGGCCGTTCTAAA\n",
      "\n",
      "VA5.F\tGACTAAGACTCTGGTCACGGTTCAG\n",
      "\n",
      "VA11.R\tACCACTCGGGCATAGTCCG\n",
      "\n",
      "VA6.F\tTGCACGGCGCTAGGTGTG\n",
      "\n",
      "VA2.R\tCTTCGCTTACATACCCATGACGG\n",
      "\n"
     ]
    }
   ],
   "source": [
    "for p in [VA1_F,VA8_R,VA3_F,VA9_R,VA4_F,VA10_R,VA5_F,VA11_R,VA6_F,VA2_R]:\n",
    "    print(p.format(\"tab\"))"
   ]
  },
  {
   "cell_type": "code",
   "execution_count": 4,
   "metadata": {
    "collapsed": true,
    "deletable": true,
    "editable": true
   },
   "outputs": [],
   "source": [
    "pJC170 = pydna.read(\"pJC170_pRS416.RFP.VEGAS.ape\")"
   ]
  },
  {
   "cell_type": "code",
   "execution_count": 5,
   "metadata": {
    "collapsed": false,
    "deletable": true,
    "editable": true
   },
   "outputs": [],
   "source": [
    "pJC175,pJC178,pJC181,pJC184,pJC187 = pydna.parse('''\n",
    "pJC175_carotenoid.library.clone.pRS416vegas.ape\n",
    "pJC178_carotenoid.library.clone.pRS416vegas.ape\n",
    "pJC181_carotenoid.library.clone.pRS416vegas.ape\n",
    "pJC184_carotenoid.library.clone.pRS416vegas.ape\n",
    "pJC187_carotenoid.library.clone.pRS416vegas.ape\n",
    "'''.split())"
   ]
  },
  {
   "cell_type": "code",
   "execution_count": 6,
   "metadata": {
    "collapsed": false,
    "deletable": true,
    "editable": true
   },
   "outputs": [
    {
     "data": {
      "text/plain": [
       "(File(pJC170_pRS416_RF)(o5926),\n",
       " File(pJC175_carotenoi)(o16269),\n",
       " File(pJC178_carotenoi)(o16176),\n",
       " File(pJC181_carotenoi)(o16268),\n",
       " File(pJC184_carotenoi)(o16170),\n",
       " File(pJC187_carotenoi)(o16176))"
      ]
     },
     "execution_count": 6,
     "metadata": {},
     "output_type": "execute_result"
    }
   ],
   "source": [
    "pJC170,pJC175,pJC178,pJC181,pJC184,pJC187"
   ]
  },
  {
   "cell_type": "markdown",
   "metadata": {
    "deletable": true,
    "editable": true
   },
   "source": [
    "[pJC175_carotenoid.library.clone.pRS416vegas.ape](pJC175_carotenoid.library.clone.pRS416vegas.ape)\n",
    "\n",
    "[pJC178_carotenoid.library.clone.pRS416vegas.ape](pJC178_carotenoid.library.clone.pRS416vegas.ape)\n",
    "\n",
    "[pJC181_carotenoid.library.clone.pRS416vegas.ape](pJC181_carotenoid.library.clone.pRS416vegas.ape)\n",
    "\n",
    "[pJC184_carotenoid.library.clone.pRS416vegas.ape](pJC184_carotenoid.library.clone.pRS416vegas.ape)\n",
    "\n",
    "[pJC187_carotenoid.library.clone.pRS416vegas.ape](pJC187_carotenoid.library.clone.pRS416vegas.ape)"
   ]
  },
  {
   "cell_type": "code",
   "execution_count": 7,
   "metadata": {
    "collapsed": false,
    "deletable": true,
    "editable": true
   },
   "outputs": [
    {
     "name": "stdout",
     "output_type": "stream",
     "text": [
      "2072\n",
      "\n",
      "Taq (rate 30 nt/s) 35 cycles             |2072bp\n",
      "95.0°C    |95.0°C                 |      |Tm formula: Biopython Tm_NN\n",
      "|_________|_____          72.0°C  |72.0°C|SaltC 50mM\n",
      "| 03min00s|30s  \\         ________|______|Primer1C 1.0µM\n",
      "|         |      \\ 57.6°C/ 1min 2s| 5min |Primer2C 1.0µM\n",
      "|         |       \\_____/         |      |GC 43%\n",
      "|         |         30s           |      |4-12°C\n",
      "---\n",
      "2690\n",
      "\n",
      "Taq (rate 30 nt/s) 35 cycles             |2690bp\n",
      "95.0°C    |95.0°C                 |      |Tm formula: Biopython Tm_NN\n",
      "|_________|_____          72.0°C  |72.0°C|SaltC 50mM\n",
      "| 03min00s|30s  \\         ________|______|Primer1C 1.0µM\n",
      "|         |      \\ 58.6°C/ 1min21s| 5min |Primer2C 1.0µM\n",
      "|         |       \\_____/         |      |GC 46%\n",
      "|         |         30s           |      |4-12°C\n",
      "---\n",
      "1637\n",
      "\n",
      "Taq (rate 30 nt/s) 35 cycles             |1637bp\n",
      "95.0°C    |95.0°C                 |      |Tm formula: Biopython Tm_NN\n",
      "|_________|_____          72.0°C  |72.0°C|SaltC 50mM\n",
      "| 03min00s|30s  \\         ________|______|Primer1C 1.0µM\n",
      "|         |      \\ 58.2°C/ 0min49s| 5min |Primer2C 1.0µM\n",
      "|         |       \\_____/         |      |GC 45%\n",
      "|         |         30s           |      |4-12°C\n",
      "---\n",
      "2963\n",
      "\n",
      "Taq (rate 30 nt/s) 35 cycles             |2963bp\n",
      "95.0°C    |95.0°C                 |      |Tm formula: Biopython Tm_NN\n",
      "|_________|_____          72.0°C  |72.0°C|SaltC 50mM\n",
      "| 03min00s|30s  \\         ________|______|Primer1C 1.0µM\n",
      "|         |      \\ 58.7°C/ 1min29s| 5min |Primer2C 1.0µM\n",
      "|         |       \\_____/         |      |GC 46%\n",
      "|         |         30s           |      |4-12°C\n",
      "---\n",
      "2516\n",
      "\n",
      "Taq (rate 30 nt/s) 35 cycles             |2516bp\n",
      "95.0°C    |95.0°C                 |      |Tm formula: Biopython Tm_NN\n",
      "|_________|_____          72.0°C  |72.0°C|SaltC 50mM\n",
      "| 03min00s|30s  \\         ________|______|Primer1C 1.0µM\n",
      "|         |      \\ 57.1°C/ 1min15s| 5min |Primer2C 1.0µM\n",
      "|         |       \\_____/         |      |GC 41%\n",
      "|         |         30s           |      |4-12°C\n",
      "---\n",
      "\n",
      "2072\n",
      "\n",
      "Taq (rate 30 nt/s) 35 cycles             |2072bp\n",
      "95.0°C    |95.0°C                 |      |Tm formula: Biopython Tm_NN\n",
      "|_________|_____          72.0°C  |72.0°C|SaltC 50mM\n",
      "| 03min00s|30s  \\         ________|______|Primer1C 1.0µM\n",
      "|         |      \\ 57.7°C/ 1min 2s| 5min |Primer2C 1.0µM\n",
      "|         |       \\_____/         |      |GC 43%\n",
      "|         |         30s           |      |4-12°C\n",
      "---\n",
      "2690\n",
      "\n",
      "Taq (rate 30 nt/s) 35 cycles             |2690bp\n",
      "95.0°C    |95.0°C                 |      |Tm formula: Biopython Tm_NN\n",
      "|_________|_____          72.0°C  |72.0°C|SaltC 50mM\n",
      "| 03min00s|30s  \\         ________|______|Primer1C 1.0µM\n",
      "|         |      \\ 58.5°C/ 1min21s| 5min |Primer2C 1.0µM\n",
      "|         |       \\_____/         |      |GC 46%\n",
      "|         |         30s           |      |4-12°C\n",
      "---\n",
      "1637\n",
      "\n",
      "Taq (rate 30 nt/s) 35 cycles             |1637bp\n",
      "95.0°C    |95.0°C                 |      |Tm formula: Biopython Tm_NN\n",
      "|_________|_____          72.0°C  |72.0°C|SaltC 50mM\n",
      "| 03min00s|30s  \\         ________|______|Primer1C 1.0µM\n",
      "|         |      \\ 58.2°C/ 0min49s| 5min |Primer2C 1.0µM\n",
      "|         |       \\_____/         |      |GC 45%\n",
      "|         |         30s           |      |4-12°C\n",
      "---\n",
      "2963\n",
      "\n",
      "Taq (rate 30 nt/s) 35 cycles             |2963bp\n",
      "95.0°C    |95.0°C                 |      |Tm formula: Biopython Tm_NN\n",
      "|_________|_____          72.0°C  |72.0°C|SaltC 50mM\n",
      "| 03min00s|30s  \\         ________|______|Primer1C 1.0µM\n",
      "|         |      \\ 58.7°C/ 1min29s| 5min |Primer2C 1.0µM\n",
      "|         |       \\_____/         |      |GC 46%\n",
      "|         |         30s           |      |4-12°C\n",
      "---\n",
      "2424\n",
      "\n",
      "Taq (rate 30 nt/s) 35 cycles             |2424bp\n",
      "95.0°C    |95.0°C                 |      |Tm formula: Biopython Tm_NN\n",
      "|_________|_____          72.0°C  |72.0°C|SaltC 50mM\n",
      "| 03min00s|30s  \\         ________|______|Primer1C 1.0µM\n",
      "|         |      \\ 56.9°C/ 1min13s| 5min |Primer2C 1.0µM\n",
      "|         |       \\_____/         |      |GC 41%\n",
      "|         |         30s           |      |4-12°C\n",
      "---\n",
      "\n",
      "2072\n",
      "\n",
      "Taq (rate 30 nt/s) 35 cycles             |2072bp\n",
      "95.0°C    |95.0°C                 |      |Tm formula: Biopython Tm_NN\n",
      "|_________|_____          72.0°C  |72.0°C|SaltC 50mM\n",
      "| 03min00s|30s  \\         ________|______|Primer1C 1.0µM\n",
      "|         |      \\ 57.6°C/ 1min 2s| 5min |Primer2C 1.0µM\n",
      "|         |       \\_____/         |      |GC 43%\n",
      "|         |         30s           |      |4-12°C\n",
      "---\n",
      "2690\n",
      "\n",
      "Taq (rate 30 nt/s) 35 cycles             |2690bp\n",
      "95.0°C    |95.0°C                 |      |Tm formula: Biopython Tm_NN\n",
      "|_________|_____          72.0°C  |72.0°C|SaltC 50mM\n",
      "| 03min00s|30s  \\         ________|______|Primer1C 1.0µM\n",
      "|         |      \\ 58.6°C/ 1min21s| 5min |Primer2C 1.0µM\n",
      "|         |       \\_____/         |      |GC 46%\n",
      "|         |         30s           |      |4-12°C\n",
      "---\n",
      "1637\n",
      "\n",
      "Taq (rate 30 nt/s) 35 cycles             |1637bp\n",
      "95.0°C    |95.0°C                 |      |Tm formula: Biopython Tm_NN\n",
      "|_________|_____          72.0°C  |72.0°C|SaltC 50mM\n",
      "| 03min00s|30s  \\         ________|______|Primer1C 1.0µM\n",
      "|         |      \\ 58.2°C/ 0min49s| 5min |Primer2C 1.0µM\n",
      "|         |       \\_____/         |      |GC 45%\n",
      "|         |         30s           |      |4-12°C\n",
      "---\n",
      "2963\n",
      "\n",
      "Taq (rate 30 nt/s) 35 cycles             |2963bp\n",
      "95.0°C    |95.0°C                 |      |Tm formula: Biopython Tm_NN\n",
      "|_________|_____          72.0°C  |72.0°C|SaltC 50mM\n",
      "| 03min00s|30s  \\         ________|______|Primer1C 1.0µM\n",
      "|         |      \\ 58.9°C/ 1min29s| 5min |Primer2C 1.0µM\n",
      "|         |       \\_____/         |      |GC 47%\n",
      "|         |         30s           |      |4-12°C\n",
      "---\n",
      "2516\n",
      "\n",
      "Taq (rate 30 nt/s) 35 cycles             |2516bp\n",
      "95.0°C    |95.0°C                 |      |Tm formula: Biopython Tm_NN\n",
      "|_________|_____          72.0°C  |72.0°C|SaltC 50mM\n",
      "| 03min00s|30s  \\         ________|______|Primer1C 1.0µM\n",
      "|         |      \\ 57.0°C/ 1min15s| 5min |Primer2C 1.0µM\n",
      "|         |       \\_____/         |      |GC 41%\n",
      "|         |         30s           |      |4-12°C\n",
      "---\n",
      "\n",
      "2072\n",
      "\n",
      "Taq (rate 30 nt/s) 35 cycles             |2072bp\n",
      "95.0°C    |95.0°C                 |      |Tm formula: Biopython Tm_NN\n",
      "|_________|_____          72.0°C  |72.0°C|SaltC 50mM\n",
      "| 03min00s|30s  \\         ________|______|Primer1C 1.0µM\n",
      "|         |      \\ 57.8°C/ 1min 2s| 5min |Primer2C 1.0µM\n",
      "|         |       \\_____/         |      |GC 43%\n",
      "|         |         30s           |      |4-12°C\n",
      "---\n",
      "2598\n",
      "\n",
      "Taq (rate 30 nt/s) 35 cycles             |2598bp\n",
      "95.0°C    |95.0°C                 |      |Tm formula: Biopython Tm_NN\n",
      "|_________|_____          72.0°C  |72.0°C|SaltC 50mM\n",
      "| 03min00s|30s  \\         ________|______|Primer1C 1.0µM\n",
      "|         |      \\ 58.6°C/ 1min18s| 5min |Primer2C 1.0µM\n",
      "|         |       \\_____/         |      |GC 46%\n",
      "|         |         30s           |      |4-12°C\n",
      "---\n",
      "1637\n",
      "\n",
      "Taq (rate 30 nt/s) 35 cycles             |1637bp\n",
      "95.0°C    |95.0°C                 |      |Tm formula: Biopython Tm_NN\n",
      "|_________|_____          72.0°C  |72.0°C|SaltC 50mM\n",
      "| 03min00s|30s  \\         ________|______|Primer1C 1.0µM\n",
      "|         |      \\ 58.2°C/ 0min49s| 5min |Primer2C 1.0µM\n",
      "|         |       \\_____/         |      |GC 45%\n",
      "|         |         30s           |      |4-12°C\n",
      "---\n",
      "2963\n",
      "\n",
      "Taq (rate 30 nt/s) 35 cycles             |2963bp\n",
      "95.0°C    |95.0°C                 |      |Tm formula: Biopython Tm_NN\n",
      "|_________|_____          72.0°C  |72.0°C|SaltC 50mM\n",
      "| 03min00s|30s  \\         ________|______|Primer1C 1.0µM\n",
      "|         |      \\ 58.6°C/ 1min29s| 5min |Primer2C 1.0µM\n",
      "|         |       \\_____/         |      |GC 46%\n",
      "|         |         30s           |      |4-12°C\n",
      "---\n",
      "2516\n",
      "\n",
      "Taq (rate 30 nt/s) 35 cycles             |2516bp\n",
      "95.0°C    |95.0°C                 |      |Tm formula: Biopython Tm_NN\n",
      "|_________|_____          72.0°C  |72.0°C|SaltC 50mM\n",
      "| 03min00s|30s  \\         ________|______|Primer1C 1.0µM\n",
      "|         |      \\ 57.0°C/ 1min15s| 5min |Primer2C 1.0µM\n",
      "|         |       \\_____/         |      |GC 41%\n",
      "|         |         30s           |      |4-12°C\n",
      "---\n",
      "\n",
      "1980\n",
      "\n",
      "Taq (rate 30 nt/s) 35 cycles             |1980bp\n",
      "95.0°C    |95.0°C                 |      |Tm formula: Biopython Tm_NN\n",
      "|_________|_____          72.0°C  |72.0°C|SaltC 50mM\n",
      "| 03min00s|30s  \\         ________|______|Primer1C 1.0µM\n",
      "|         |      \\ 57.7°C/ 0min59s| 5min |Primer2C 1.0µM\n",
      "|         |       \\_____/         |      |GC 43%\n",
      "|         |         30s           |      |4-12°C\n",
      "---\n",
      "2690\n",
      "\n",
      "Taq (rate 30 nt/s) 35 cycles             |2690bp\n",
      "95.0°C    |95.0°C                 |      |Tm formula: Biopython Tm_NN\n",
      "|_________|_____          72.0°C  |72.0°C|SaltC 50mM\n",
      "| 03min00s|30s  \\         ________|______|Primer1C 1.0µM\n",
      "|         |      \\ 58.4°C/ 1min21s| 5min |Primer2C 1.0µM\n",
      "|         |       \\_____/         |      |GC 46%\n",
      "|         |         30s           |      |4-12°C\n",
      "---\n",
      "1637\n",
      "\n",
      "Taq (rate 30 nt/s) 35 cycles             |1637bp\n",
      "95.0°C    |95.0°C                 |      |Tm formula: Biopython Tm_NN\n",
      "|_________|_____          72.0°C  |72.0°C|SaltC 50mM\n",
      "| 03min00s|30s  \\         ________|______|Primer1C 1.0µM\n",
      "|         |      \\ 58.2°C/ 0min49s| 5min |Primer2C 1.0µM\n",
      "|         |       \\_____/         |      |GC 45%\n",
      "|         |         30s           |      |4-12°C\n",
      "---\n",
      "2963\n",
      "\n",
      "Taq (rate 30 nt/s) 35 cycles             |2963bp\n",
      "95.0°C    |95.0°C                 |      |Tm formula: Biopython Tm_NN\n",
      "|_________|_____          72.0°C  |72.0°C|SaltC 50mM\n",
      "| 03min00s|30s  \\         ________|______|Primer1C 1.0µM\n",
      "|         |      \\ 58.5°C/ 1min29s| 5min |Primer2C 1.0µM\n",
      "|         |       \\_____/         |      |GC 45%\n",
      "|         |         30s           |      |4-12°C\n",
      "---\n",
      "2516\n",
      "\n",
      "Taq (rate 30 nt/s) 35 cycles             |2516bp\n",
      "95.0°C    |95.0°C                 |      |Tm formula: Biopython Tm_NN\n",
      "|_________|_____          72.0°C  |72.0°C|SaltC 50mM\n",
      "| 03min00s|30s  \\         ________|______|Primer1C 1.0µM\n",
      "|         |      \\ 57.0°C/ 1min15s| 5min |Primer2C 1.0µM\n",
      "|         |       \\_____/         |      |GC 41%\n",
      "|         |         30s           |      |4-12°C\n",
      "---\n",
      "\n"
     ]
    }
   ],
   "source": [
    "for plasmid in [pJC175,pJC178,pJC181,pJC184,pJC187]:\n",
    "    for pp in [(VA1_F,VA8_R),(VA3_F,VA9_R),(VA4_F,VA10_R),(VA5_F,VA11_R),(VA6_F,VA2_R)]:\n",
    "        print(len(pydna.pcr(pp, plasmid)))\n",
    "        print(pydna.pcr(pp, plasmid).program())\n",
    "        print(\"---\")\n",
    "    print()"
   ]
  },
  {
   "cell_type": "markdown",
   "metadata": {
    "deletable": true,
    "editable": true
   },
   "source": [
    "    Taq (rate 30 nt/s) 35 cycles             |2516bp\n",
    "    95.0°C    |95.0°C                 |      |SantaLucia 1998\n",
    "    |_________|_____          72.0°C  |72.0°C|SaltC 50mM\n",
    "    | 03min00s|30s  \\         ________|______|\n",
    "    |         |      \\ 57.0°C/ 1min20s| 5min |\n",
    "    |         |       \\_____/         |      |\n",
    "    |         |         30s           |      |4-12°C"
   ]
  },
  {
   "cell_type": "code",
   "execution_count": 8,
   "metadata": {
    "collapsed": true,
    "deletable": true,
    "editable": true
   },
   "outputs": [],
   "source": [
    "from Bio.Restriction import BamHI, BglII"
   ]
  },
  {
   "cell_type": "code",
   "execution_count": 9,
   "metadata": {
    "collapsed": false,
    "deletable": true,
    "editable": true
   },
   "outputs": [
    {
     "name": "stdout",
     "output_type": "stream",
     "text": [
      "[Dseqrecord(-4984), Dseqrecord(-5994), Dseqrecord(-5303)]\n",
      "[Dseqrecord(-10973), Dseqrecord(-5211)]\n",
      "[Dseqrecord(-10973), Dseqrecord(-5303)]\n",
      "[Dseqrecord(-10881), Dseqrecord(-5297)]\n",
      "[Dseqrecord(-10881), Dseqrecord(-5303)]\n"
     ]
    }
   ],
   "source": [
    "for plasmid in [pJC175,pJC178,pJC181,pJC184,pJC187]:\n",
    "    print(plasmid.cut(BamHI))"
   ]
  },
  {
   "cell_type": "code",
   "execution_count": 10,
   "metadata": {
    "collapsed": false,
    "deletable": true,
    "editable": true
   },
   "outputs": [
    {
     "name": "stdout",
     "output_type": "stream",
     "text": [
      "[Dseqrecord(-7023), Dseqrecord(-1831), Dseqrecord(-1678), Dseqrecord(-4376), Dseqrecord(-230), Dseqrecord(-1155)]\n",
      "[Dseqrecord(-5997), Dseqrecord(-929), Dseqrecord(-906), Dseqrecord(-7335), Dseqrecord(-1029)]\n",
      "[Dseqrecord(-7022), Dseqrecord(-1831), Dseqrecord(-6050), Dseqrecord(-1381)]\n",
      "[Dseqrecord(-7016), Dseqrecord(-1739), Dseqrecord(-7427)]\n",
      "[Dseqrecord(-5905), Dseqrecord(-929), Dseqrecord(-906), Dseqrecord(-1678), Dseqrecord(-4602), Dseqrecord(-1155), Dseqrecord(-1029)]\n"
     ]
    }
   ],
   "source": [
    "for plasmid in [pJC175,pJC178,pJC181,pJC184,pJC187]:\n",
    "    print(plasmid.cut(BglII))"
   ]
  },
  {
   "cell_type": "code",
   "execution_count": 11,
   "metadata": {
    "collapsed": true,
    "deletable": true,
    "editable": true
   },
   "outputs": [],
   "source": []
  }
 ],
 "metadata": {
  "kernelspec": {
   "display_name": "Python 3",
   "language": "python",
   "name": "python3"
  },
  "language_info": {
   "codemirror_mode": {
    "name": "ipython",
    "version": 3
   },
   "file_extension": ".py",
   "mimetype": "text/x-python",
   "name": "python",
   "nbconvert_exporter": "python",
   "pygments_lexer": "ipython3",
   "version": "3.5.2"
  }
 },
 "nbformat": 4,
 "nbformat_minor": 0
}
